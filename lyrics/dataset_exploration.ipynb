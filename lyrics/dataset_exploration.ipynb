{
 "cells": [
  {
   "cell_type": "markdown",
   "metadata": {
    "collapsed": true,
    "pycharm": {
     "name": "#%% md\n"
    }
   },
   "source": [
    "# Notebook to start exploring the MusicO-Net Library"
   ]
  },
  {
   "cell_type": "code",
   "execution_count": 2,
   "outputs": [],
   "source": [
    "import pandas as pd"
   ],
   "metadata": {
    "collapsed": false,
    "pycharm": {
     "name": "#%%\n"
    }
   }
  },
  {
   "cell_type": "code",
   "execution_count": 12,
   "outputs": [],
   "source": [
    "\n",
    "df_features = pd.read_csv(\"data/musicoset_songfeatures/acoustic_features.csv\", sep=\"\\t\")\n",
    "df_lyrics = pd.read_csv(\"data/musicoset_songfeatures/lyrics.csv\", sep=\"\\t\")\n",
    "\n",
    "df = df_features.merge(right=df_lyrics, how='inner', on=\"song_id\")"
   ],
   "metadata": {
    "collapsed": false,
    "pycharm": {
     "name": "#%%\n"
    }
   }
  },
  {
   "cell_type": "code",
   "execution_count": 10,
   "outputs": [
    {
     "data": {
      "text/plain": "                  song_id  duration_ms  key  mode  time_signature  \\\n0  3e9HZxeyfWwjeyPAMmWSSQ       207320    1     1               4   \n1  5p7ujcrUXASCNwRaWNHR1C       201661    6     1               4   \n2  2xLMifQCjDGFmkHkpNLD9h       312820    8     1               4   \n3  3KkXRkHbMCARz0aVfEt68P       158040    2     1               4   \n4  1rqqCSm0Qe4I9rUvWncaom       190947    5     1               4   \n\n   acousticness  danceability  energy  instrumentalness  liveness  loudness  \\\n0       0.22900         0.717   0.653          0.000000    0.1010    -5.634   \n1       0.29700         0.752   0.488          0.000009    0.0936    -7.050   \n2       0.00513         0.834   0.730          0.000000    0.1240    -3.714   \n3       0.55600         0.760   0.479          0.000000    0.0703    -5.574   \n4       0.19300         0.579   0.904          0.000000    0.0640    -2.729   \n\n   speechiness  valence    tempo  \n0       0.0658    0.412  106.966  \n1       0.0705    0.533  136.041  \n2       0.2220    0.446  155.008  \n3       0.0466    0.913   89.911  \n4       0.0618    0.681   82.014  ",
      "text/html": "<div>\n<style scoped>\n    .dataframe tbody tr th:only-of-type {\n        vertical-align: middle;\n    }\n\n    .dataframe tbody tr th {\n        vertical-align: top;\n    }\n\n    .dataframe thead th {\n        text-align: right;\n    }\n</style>\n<table border=\"1\" class=\"dataframe\">\n  <thead>\n    <tr style=\"text-align: right;\">\n      <th></th>\n      <th>song_id</th>\n      <th>duration_ms</th>\n      <th>key</th>\n      <th>mode</th>\n      <th>time_signature</th>\n      <th>acousticness</th>\n      <th>danceability</th>\n      <th>energy</th>\n      <th>instrumentalness</th>\n      <th>liveness</th>\n      <th>loudness</th>\n      <th>speechiness</th>\n      <th>valence</th>\n      <th>tempo</th>\n    </tr>\n  </thead>\n  <tbody>\n    <tr>\n      <th>0</th>\n      <td>3e9HZxeyfWwjeyPAMmWSSQ</td>\n      <td>207320</td>\n      <td>1</td>\n      <td>1</td>\n      <td>4</td>\n      <td>0.22900</td>\n      <td>0.717</td>\n      <td>0.653</td>\n      <td>0.000000</td>\n      <td>0.1010</td>\n      <td>-5.634</td>\n      <td>0.0658</td>\n      <td>0.412</td>\n      <td>106.966</td>\n    </tr>\n    <tr>\n      <th>1</th>\n      <td>5p7ujcrUXASCNwRaWNHR1C</td>\n      <td>201661</td>\n      <td>6</td>\n      <td>1</td>\n      <td>4</td>\n      <td>0.29700</td>\n      <td>0.752</td>\n      <td>0.488</td>\n      <td>0.000009</td>\n      <td>0.0936</td>\n      <td>-7.050</td>\n      <td>0.0705</td>\n      <td>0.533</td>\n      <td>136.041</td>\n    </tr>\n    <tr>\n      <th>2</th>\n      <td>2xLMifQCjDGFmkHkpNLD9h</td>\n      <td>312820</td>\n      <td>8</td>\n      <td>1</td>\n      <td>4</td>\n      <td>0.00513</td>\n      <td>0.834</td>\n      <td>0.730</td>\n      <td>0.000000</td>\n      <td>0.1240</td>\n      <td>-3.714</td>\n      <td>0.2220</td>\n      <td>0.446</td>\n      <td>155.008</td>\n    </tr>\n    <tr>\n      <th>3</th>\n      <td>3KkXRkHbMCARz0aVfEt68P</td>\n      <td>158040</td>\n      <td>2</td>\n      <td>1</td>\n      <td>4</td>\n      <td>0.55600</td>\n      <td>0.760</td>\n      <td>0.479</td>\n      <td>0.000000</td>\n      <td>0.0703</td>\n      <td>-5.574</td>\n      <td>0.0466</td>\n      <td>0.913</td>\n      <td>89.911</td>\n    </tr>\n    <tr>\n      <th>4</th>\n      <td>1rqqCSm0Qe4I9rUvWncaom</td>\n      <td>190947</td>\n      <td>5</td>\n      <td>1</td>\n      <td>4</td>\n      <td>0.19300</td>\n      <td>0.579</td>\n      <td>0.904</td>\n      <td>0.000000</td>\n      <td>0.0640</td>\n      <td>-2.729</td>\n      <td>0.0618</td>\n      <td>0.681</td>\n      <td>82.014</td>\n    </tr>\n  </tbody>\n</table>\n</div>"
     },
     "execution_count": 10,
     "metadata": {},
     "output_type": "execute_result"
    }
   ],
   "source": [
    "df_features.head()"
   ],
   "metadata": {
    "collapsed": false,
    "pycharm": {
     "name": "#%%\n"
    }
   }
  },
  {
   "cell_type": "code",
   "execution_count": 11,
   "outputs": [
    {
     "data": {
      "text/plain": "                  song_id                                             lyrics\n0  3e9HZxeyfWwjeyPAMmWSSQ  ['[Verse 1]\\nThought I\\'d end up with Sean\\nBu...\n1  5p7ujcrUXASCNwRaWNHR1C  [\"[Verse 1]\\nFound you when your heart was bro...\n2  2xLMifQCjDGFmkHkpNLD9h  ['[Part I]\\n\\n[Intro: Drake]\\nAstro, yeah\\nSun...\n3  3KkXRkHbMCARz0aVfEt68P                                                NaN\n4  1rqqCSm0Qe4I9rUvWncaom  [\"[Intro]\\nHigh, high hopes\\n\\n[Chorus]\\nHad t...",
      "text/html": "<div>\n<style scoped>\n    .dataframe tbody tr th:only-of-type {\n        vertical-align: middle;\n    }\n\n    .dataframe tbody tr th {\n        vertical-align: top;\n    }\n\n    .dataframe thead th {\n        text-align: right;\n    }\n</style>\n<table border=\"1\" class=\"dataframe\">\n  <thead>\n    <tr style=\"text-align: right;\">\n      <th></th>\n      <th>song_id</th>\n      <th>lyrics</th>\n    </tr>\n  </thead>\n  <tbody>\n    <tr>\n      <th>0</th>\n      <td>3e9HZxeyfWwjeyPAMmWSSQ</td>\n      <td>['[Verse 1]\\nThought I\\'d end up with Sean\\nBu...</td>\n    </tr>\n    <tr>\n      <th>1</th>\n      <td>5p7ujcrUXASCNwRaWNHR1C</td>\n      <td>[\"[Verse 1]\\nFound you when your heart was bro...</td>\n    </tr>\n    <tr>\n      <th>2</th>\n      <td>2xLMifQCjDGFmkHkpNLD9h</td>\n      <td>['[Part I]\\n\\n[Intro: Drake]\\nAstro, yeah\\nSun...</td>\n    </tr>\n    <tr>\n      <th>3</th>\n      <td>3KkXRkHbMCARz0aVfEt68P</td>\n      <td>NaN</td>\n    </tr>\n    <tr>\n      <th>4</th>\n      <td>1rqqCSm0Qe4I9rUvWncaom</td>\n      <td>[\"[Intro]\\nHigh, high hopes\\n\\n[Chorus]\\nHad t...</td>\n    </tr>\n  </tbody>\n</table>\n</div>"
     },
     "execution_count": 11,
     "metadata": {},
     "output_type": "execute_result"
    }
   ],
   "source": [
    "df_lyrics.head()"
   ],
   "metadata": {
    "collapsed": false,
    "pycharm": {
     "name": "#%%\n"
    }
   }
  },
  {
   "cell_type": "code",
   "execution_count": 13,
   "outputs": [
    {
     "data": {
      "text/plain": "                  song_id  duration_ms  key  mode  time_signature  \\\n0  3e9HZxeyfWwjeyPAMmWSSQ       207320    1     1               4   \n1  5p7ujcrUXASCNwRaWNHR1C       201661    6     1               4   \n2  2xLMifQCjDGFmkHkpNLD9h       312820    8     1               4   \n3  3KkXRkHbMCARz0aVfEt68P       158040    2     1               4   \n4  1rqqCSm0Qe4I9rUvWncaom       190947    5     1               4   \n\n   acousticness  danceability  energy  instrumentalness  liveness  loudness  \\\n0       0.22900         0.717   0.653          0.000000    0.1010    -5.634   \n1       0.29700         0.752   0.488          0.000009    0.0936    -7.050   \n2       0.00513         0.834   0.730          0.000000    0.1240    -3.714   \n3       0.55600         0.760   0.479          0.000000    0.0703    -5.574   \n4       0.19300         0.579   0.904          0.000000    0.0640    -2.729   \n\n   speechiness  valence    tempo  \\\n0       0.0658    0.412  106.966   \n1       0.0705    0.533  136.041   \n2       0.2220    0.446  155.008   \n3       0.0466    0.913   89.911   \n4       0.0618    0.681   82.014   \n\n                                              lyrics  \n0  ['[Verse 1]\\nThought I\\'d end up with Sean\\nBu...  \n1  [\"[Verse 1]\\nFound you when your heart was bro...  \n2  ['[Part I]\\n\\n[Intro: Drake]\\nAstro, yeah\\nSun...  \n3                                                NaN  \n4  [\"[Intro]\\nHigh, high hopes\\n\\n[Chorus]\\nHad t...  ",
      "text/html": "<div>\n<style scoped>\n    .dataframe tbody tr th:only-of-type {\n        vertical-align: middle;\n    }\n\n    .dataframe tbody tr th {\n        vertical-align: top;\n    }\n\n    .dataframe thead th {\n        text-align: right;\n    }\n</style>\n<table border=\"1\" class=\"dataframe\">\n  <thead>\n    <tr style=\"text-align: right;\">\n      <th></th>\n      <th>song_id</th>\n      <th>duration_ms</th>\n      <th>key</th>\n      <th>mode</th>\n      <th>time_signature</th>\n      <th>acousticness</th>\n      <th>danceability</th>\n      <th>energy</th>\n      <th>instrumentalness</th>\n      <th>liveness</th>\n      <th>loudness</th>\n      <th>speechiness</th>\n      <th>valence</th>\n      <th>tempo</th>\n      <th>lyrics</th>\n    </tr>\n  </thead>\n  <tbody>\n    <tr>\n      <th>0</th>\n      <td>3e9HZxeyfWwjeyPAMmWSSQ</td>\n      <td>207320</td>\n      <td>1</td>\n      <td>1</td>\n      <td>4</td>\n      <td>0.22900</td>\n      <td>0.717</td>\n      <td>0.653</td>\n      <td>0.000000</td>\n      <td>0.1010</td>\n      <td>-5.634</td>\n      <td>0.0658</td>\n      <td>0.412</td>\n      <td>106.966</td>\n      <td>['[Verse 1]\\nThought I\\'d end up with Sean\\nBu...</td>\n    </tr>\n    <tr>\n      <th>1</th>\n      <td>5p7ujcrUXASCNwRaWNHR1C</td>\n      <td>201661</td>\n      <td>6</td>\n      <td>1</td>\n      <td>4</td>\n      <td>0.29700</td>\n      <td>0.752</td>\n      <td>0.488</td>\n      <td>0.000009</td>\n      <td>0.0936</td>\n      <td>-7.050</td>\n      <td>0.0705</td>\n      <td>0.533</td>\n      <td>136.041</td>\n      <td>[\"[Verse 1]\\nFound you when your heart was bro...</td>\n    </tr>\n    <tr>\n      <th>2</th>\n      <td>2xLMifQCjDGFmkHkpNLD9h</td>\n      <td>312820</td>\n      <td>8</td>\n      <td>1</td>\n      <td>4</td>\n      <td>0.00513</td>\n      <td>0.834</td>\n      <td>0.730</td>\n      <td>0.000000</td>\n      <td>0.1240</td>\n      <td>-3.714</td>\n      <td>0.2220</td>\n      <td>0.446</td>\n      <td>155.008</td>\n      <td>['[Part I]\\n\\n[Intro: Drake]\\nAstro, yeah\\nSun...</td>\n    </tr>\n    <tr>\n      <th>3</th>\n      <td>3KkXRkHbMCARz0aVfEt68P</td>\n      <td>158040</td>\n      <td>2</td>\n      <td>1</td>\n      <td>4</td>\n      <td>0.55600</td>\n      <td>0.760</td>\n      <td>0.479</td>\n      <td>0.000000</td>\n      <td>0.0703</td>\n      <td>-5.574</td>\n      <td>0.0466</td>\n      <td>0.913</td>\n      <td>89.911</td>\n      <td>NaN</td>\n    </tr>\n    <tr>\n      <th>4</th>\n      <td>1rqqCSm0Qe4I9rUvWncaom</td>\n      <td>190947</td>\n      <td>5</td>\n      <td>1</td>\n      <td>4</td>\n      <td>0.19300</td>\n      <td>0.579</td>\n      <td>0.904</td>\n      <td>0.000000</td>\n      <td>0.0640</td>\n      <td>-2.729</td>\n      <td>0.0618</td>\n      <td>0.681</td>\n      <td>82.014</td>\n      <td>[\"[Intro]\\nHigh, high hopes\\n\\n[Chorus]\\nHad t...</td>\n    </tr>\n  </tbody>\n</table>\n</div>"
     },
     "execution_count": 13,
     "metadata": {},
     "output_type": "execute_result"
    }
   ],
   "source": [
    "df.head()"
   ],
   "metadata": {
    "collapsed": false,
    "pycharm": {
     "name": "#%%\n"
    }
   }
  },
  {
   "cell_type": "code",
   "execution_count": 14,
   "outputs": [
    {
     "data": {
      "text/plain": "20404"
     },
     "execution_count": 14,
     "metadata": {},
     "output_type": "execute_result"
    }
   ],
   "source": [
    "len(df)"
   ],
   "metadata": {
    "collapsed": false,
    "pycharm": {
     "name": "#%%\n"
    }
   }
  },
  {
   "cell_type": "code",
   "execution_count": null,
   "outputs": [],
   "source": [],
   "metadata": {
    "collapsed": false,
    "pycharm": {
     "name": "#%%\n"
    }
   }
  }
 ],
 "metadata": {
  "kernelspec": {
   "display_name": "Python 3",
   "language": "python",
   "name": "python3"
  },
  "language_info": {
   "codemirror_mode": {
    "name": "ipython",
    "version": 2
   },
   "file_extension": ".py",
   "mimetype": "text/x-python",
   "name": "python",
   "nbconvert_exporter": "python",
   "pygments_lexer": "ipython2",
   "version": "2.7.6"
  }
 },
 "nbformat": 4,
 "nbformat_minor": 0
}