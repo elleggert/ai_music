{
 "cells": [
  {
   "cell_type": "code",
   "execution_count": 20,
   "metadata": {
    "collapsed": true
   },
   "outputs": [],
   "source": [
    "from gtts import gTTS\n",
    "import gtts\n",
    "from io import BytesIO"
   ]
  },
  {
   "cell_type": "code",
   "execution_count": 21,
   "outputs": [],
   "source": [
    "lyrics = \"move bitch hunger and violence. girl your clitoris is hollering cum. christmas sucked. you be might insane. balls layin dollar. i got a dog muscle. a small snitch didnt lilililick. its apple shit that chronic died. clitoris nananananananananana brokenhearted.\"\n",
    "#lyrics = \"Phillipp stinkt nach Wurst. Mega eklig. Alle ab nach Istanbul.\""
   ],
   "metadata": {
    "collapsed": false,
    "pycharm": {
     "name": "#%%\n"
    }
   }
  },
  {
   "cell_type": "code",
   "execution_count": 22,
   "outputs": [],
   "source": [
    "mp3_fp = BytesIO()\n",
    "tts = gTTS(lyrics, lang='en', tld=\"co.in\", slow=True)\n",
    "tts.save('lyric.mp3')\n",
    "#tts.write_to_fp(mp3_fp)"
   ],
   "metadata": {
    "collapsed": false,
    "pycharm": {
     "name": "#%%\n"
    }
   }
  },
  {
   "cell_type": "code",
   "execution_count": 8,
   "outputs": [
    {
     "data": {
      "text/plain": "{'af': 'Afrikaans',\n 'ar': 'Arabic',\n 'bg': 'Bulgarian',\n 'bn': 'Bengali',\n 'bs': 'Bosnian',\n 'ca': 'Catalan',\n 'cs': 'Czech',\n 'cy': 'Welsh',\n 'da': 'Danish',\n 'de': 'German',\n 'el': 'Greek',\n 'en': 'English',\n 'eo': 'Esperanto',\n 'es': 'Spanish',\n 'et': 'Estonian',\n 'fi': 'Finnish',\n 'fr': 'French',\n 'gu': 'Gujarati',\n 'hi': 'Hindi',\n 'hr': 'Croatian',\n 'hu': 'Hungarian',\n 'hy': 'Armenian',\n 'id': 'Indonesian',\n 'is': 'Icelandic',\n 'it': 'Italian',\n 'ja': 'Japanese',\n 'jw': 'Javanese',\n 'km': 'Khmer',\n 'kn': 'Kannada',\n 'ko': 'Korean',\n 'la': 'Latin',\n 'lv': 'Latvian',\n 'mk': 'Macedonian',\n 'ml': 'Malayalam',\n 'mr': 'Marathi',\n 'my': 'Myanmar (Burmese)',\n 'ne': 'Nepali',\n 'nl': 'Dutch',\n 'no': 'Norwegian',\n 'pl': 'Polish',\n 'pt': 'Portuguese',\n 'ro': 'Romanian',\n 'ru': 'Russian',\n 'si': 'Sinhala',\n 'sk': 'Slovak',\n 'sq': 'Albanian',\n 'sr': 'Serbian',\n 'su': 'Sundanese',\n 'sv': 'Swedish',\n 'sw': 'Swahili',\n 'ta': 'Tamil',\n 'te': 'Telugu',\n 'th': 'Thai',\n 'tl': 'Filipino',\n 'tr': 'Turkish',\n 'uk': 'Ukrainian',\n 'ur': 'Urdu',\n 'vi': 'Vietnamese',\n 'zh-CN': 'Chinese',\n 'zh-TW': 'Chinese (Mandarin/Taiwan)',\n 'zh': 'Chinese (Mandarin)'}"
     },
     "execution_count": 8,
     "metadata": {},
     "output_type": "execute_result"
    }
   ],
   "source": [
    "gtts.lang.tts_langs()"
   ],
   "metadata": {
    "collapsed": false,
    "pycharm": {
     "name": "#%%\n"
    }
   }
  },
  {
   "cell_type": "code",
   "execution_count": null,
   "outputs": [],
   "source": [],
   "metadata": {
    "collapsed": false,
    "pycharm": {
     "name": "#%%\n"
    }
   }
  }
 ],
 "metadata": {
  "kernelspec": {
   "display_name": "Python 3",
   "language": "python",
   "name": "python3"
  },
  "language_info": {
   "codemirror_mode": {
    "name": "ipython",
    "version": 2
   },
   "file_extension": ".py",
   "mimetype": "text/x-python",
   "name": "python",
   "nbconvert_exporter": "python",
   "pygments_lexer": "ipython2",
   "version": "2.7.6"
  }
 },
 "nbformat": 4,
 "nbformat_minor": 0
}